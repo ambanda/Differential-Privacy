{
  "nbformat": 4,
  "nbformat_minor": 0,
  "metadata": {
    "colab": {
      "provenance": []
    },
    "kernelspec": {
      "name": "python3",
      "display_name": "Python 3"
    },
    "language_info": {
      "name": "python"
    }
  },
  "cells": [
    {
      "cell_type": "code",
      "execution_count": null,
      "metadata": {
        "colab": {
          "base_uri": "https://localhost:8080/"
        },
        "id": "s9t_ekoqS6u_",
        "outputId": "50cc55cb-72de-4a6c-950c-cd8dd9a13bc9"
      },
      "outputs": [
        {
          "output_type": "stream",
          "name": "stdout",
          "text": [
            "⏬ Downloading https://github.com/jaimergp/miniforge/releases/latest/download/Mambaforge-colab-Linux-x86_64.sh...\n",
            "📦 Installing...\n",
            "📌 Adjusting configuration...\n",
            "🩹 Patching environment...\n",
            "⏲ Done in 0:00:24\n",
            "🔁 Restarting kernel...\n"
          ]
        }
      ],
      "source": [
        "!pip install -q condacolab\n",
        "import condacolab\n",
        "condacolab.install() "
      ]
    },
    {
      "cell_type": "code",
      "source": [
        "! git clone https://github.com/IBM/differential-privacy-library"
      ],
      "metadata": {
        "colab": {
          "base_uri": "https://localhost:8080/"
        },
        "id": "tUYLn2olTCb3",
        "outputId": "2c45b56a-8630-4f4c-d721-fb2cb6282fa8"
      },
      "execution_count": null,
      "outputs": [
        {
          "output_type": "stream",
          "name": "stdout",
          "text": [
            "Cloning into 'differential-privacy-library'...\n",
            "remote: Enumerating objects: 4029, done.\u001b[K\n",
            "remote: Counting objects: 100% (979/979), done.\u001b[K\n",
            "remote: Compressing objects: 100% (430/430), done.\u001b[K\n",
            "remote: Total 4029 (delta 689), reused 715 (delta 549), pack-reused 3050\u001b[K\n",
            "Receiving objects: 100% (4029/4029), 2.16 MiB | 6.85 MiB/s, done.\n",
            "Resolving deltas: 100% (2920/2920), done.\n"
          ]
        }
      ]
    },
    {
      "cell_type": "code",
      "source": [
        "! pip install diffprivlib"
      ],
      "metadata": {
        "id": "JbI1H-ydTCje",
        "outputId": "28820fcc-a630-4163-a192-dbf99291260b",
        "colab": {
          "base_uri": "https://localhost:8080/",
          "height": 661
        }
      },
      "execution_count": null,
      "outputs": [
        {
          "output_type": "stream",
          "name": "stdout",
          "text": [
            "Looking in indexes: https://pypi.org/simple, https://us-python.pkg.dev/colab-wheels/public/simple/\n",
            "Collecting diffprivlib\n",
            "  Downloading diffprivlib-0.5.2-py3-none-any.whl (167 kB)\n",
            "\u001b[2K     \u001b[90m━━━━━━━━━━━━━━━━━━━━━━━━━━━━━━━━━━━━━━━\u001b[0m \u001b[32m167.0/167.0 kB\u001b[0m \u001b[31m6.2 MB/s\u001b[0m eta \u001b[36m0:00:00\u001b[0m\n",
            "\u001b[?25hCollecting scipy>=1.5.0\n",
            "  Downloading scipy-1.7.3-cp37-cp37m-manylinux_2_12_x86_64.manylinux2010_x86_64.whl (38.1 MB)\n",
            "\u001b[2K     \u001b[90m━━━━━━━━━━━━━━━━━━━━━━━━━━━━━━━━━━━━━━━━\u001b[0m \u001b[32m38.1/38.1 MB\u001b[0m \u001b[31m21.2 MB/s\u001b[0m eta \u001b[36m0:00:00\u001b[0m\n",
            "\u001b[?25hCollecting crlibm>=1.0.3\n",
            "  Downloading crlibm-1.0.3.tar.gz (1.6 MB)\n",
            "\u001b[2K     \u001b[90m━━━━━━━━━━━━━━━━━━━━━━━━━━━━━━━━━━━━━━━━\u001b[0m \u001b[32m1.6/1.6 MB\u001b[0m \u001b[31m62.1 MB/s\u001b[0m eta \u001b[36m0:00:00\u001b[0m\n",
            "\u001b[?25h  Preparing metadata (setup.py) ... \u001b[?25l\u001b[?25hdone\n",
            "Collecting joblib>=0.16.0\n",
            "  Downloading joblib-1.2.0-py3-none-any.whl (297 kB)\n",
            "\u001b[2K     \u001b[90m━━━━━━━━━━━━━━━━━━━━━━━━━━━━━━━━━━━━━━\u001b[0m \u001b[32m298.0/298.0 kB\u001b[0m \u001b[31m23.9 MB/s\u001b[0m eta \u001b[36m0:00:00\u001b[0m\n",
            "\u001b[?25hCollecting numpy>=1.19.0\n",
            "  Downloading numpy-1.21.6-cp37-cp37m-manylinux_2_12_x86_64.manylinux2010_x86_64.whl (15.7 MB)\n",
            "\u001b[2K     \u001b[90m━━━━━━━━━━━━━━━━━━━━━━━━━━━━━━━━━━━━━━━━\u001b[0m \u001b[32m15.7/15.7 MB\u001b[0m \u001b[31m26.6 MB/s\u001b[0m eta \u001b[36m0:00:00\u001b[0m\n",
            "\u001b[?25hCollecting scikit-learn>=0.23.0\n",
            "  Downloading scikit_learn-1.0.2-cp37-cp37m-manylinux_2_17_x86_64.manylinux2014_x86_64.whl (24.8 MB)\n",
            "\u001b[2K     \u001b[90m━━━━━━━━━━━━━━━━━━━━━━━━━━━━━━━━━━━━━━━━\u001b[0m \u001b[32m24.8/24.8 MB\u001b[0m \u001b[31m35.3 MB/s\u001b[0m eta \u001b[36m0:00:00\u001b[0m\n",
            "\u001b[?25hRequirement already satisfied: setuptools>=49.0.0 in /usr/local/lib/python3.7/site-packages (from diffprivlib) (65.3.0)\n",
            "Collecting threadpoolctl>=2.0.0\n",
            "  Downloading threadpoolctl-3.1.0-py3-none-any.whl (14 kB)\n",
            "Building wheels for collected packages: crlibm\n",
            "  Building wheel for crlibm (setup.py) ... \u001b[?25l\u001b[?25hdone\n",
            "  Created wheel for crlibm: filename=crlibm-1.0.3-cp37-cp37m-linux_x86_64.whl size=176994 sha256=90bdc8976755942649953fb6b3acff04c3f106fd4b2b2f2550cf7a578a919035\n",
            "  Stored in directory: /root/.cache/pip/wheels/d5/49/76/c2047e63fe9162b0b156dd4c0656b5ee1e3d8a2d6cfc56132c\n",
            "Successfully built crlibm\n",
            "Installing collected packages: crlibm, threadpoolctl, numpy, joblib, scipy, scikit-learn, diffprivlib\n",
            "Successfully installed crlibm-1.0.3 diffprivlib-0.5.2 joblib-1.2.0 numpy-1.21.6 scikit-learn-1.0.2 scipy-1.7.3 threadpoolctl-3.1.0\n",
            "\u001b[33mWARNING: Running pip as the 'root' user can result in broken permissions and conflicting behaviour with the system package manager. It is recommended to use a virtual environment instead: https://pip.pypa.io/warnings/venv\u001b[0m\u001b[33m\n",
            "\u001b[0m"
          ]
        },
        {
          "output_type": "display_data",
          "data": {
            "application/vnd.colab-display-data+json": {
              "pip_warning": {
                "packages": [
                  "numpy"
                ]
              }
            }
          },
          "metadata": {}
        }
      ]
    },
    {
      "cell_type": "code",
      "source": [
        "%cd differential-privacy-library"
      ],
      "metadata": {
        "id": "6hVr-E7RTGxZ",
        "outputId": "52ca8648-6310-4461-a6c0-175101815138",
        "colab": {
          "base_uri": "https://localhost:8080/"
        }
      },
      "execution_count": null,
      "outputs": [
        {
          "output_type": "stream",
          "name": "stdout",
          "text": [
            "/content/differential-privacy-library\n"
          ]
        }
      ]
    },
    {
      "cell_type": "code",
      "source": [
        "import pandas as pd\n",
        "import numpy as np\n",
        "xl=pd.ExcelFile(\"/content/TableauSalesData1.xlsx\")\n",
        "df=xl.parse(\"Orders\")\n",
        "#print(df.head())\n"
      ],
      "metadata": {
        "id": "UUHvIhwOcmz-"
      },
      "execution_count": null,
      "outputs": []
    },
    {
      "cell_type": "code",
      "source": [
        "\n",
        "df.columns"
      ],
      "metadata": {
        "id": "ouWwoKZvi8eM",
        "outputId": "3574f2fe-5f41-4929-8022-c0a7735d86cb",
        "colab": {
          "base_uri": "https://localhost:8080/"
        }
      },
      "execution_count": null,
      "outputs": [
        {
          "output_type": "execute_result",
          "data": {
            "text/plain": [
              "Index(['Row ID', 'Order ID', 'Order Date', 'Ship Date', 'Ship Mode',\n",
              "       'Customer ID', 'Customer Name', 'Segment', 'Country', 'City', 'State',\n",
              "       'Postal Code', 'Region', 'Product ID', 'Category', 'Sub-Category',\n",
              "       'Product Name', 'Sales', 'Quantity', 'Discount', 'Profit'],\n",
              "      dtype='object')"
            ]
          },
          "metadata": {},
          "execution_count": 11
        }
      ]
    },
    {
      "cell_type": "code",
      "source": [
        "SubCatProfits=df[[\"Sub-Category\",\"Sales\",\"Profit\"]]\n",
        "print(SubCatProfits)"
      ],
      "metadata": {
        "id": "WfTawaW5lkA1",
        "outputId": "ffef4a42-0954-4cc3-e50c-7cf0803b6155",
        "colab": {
          "base_uri": "https://localhost:8080/"
        }
      },
      "execution_count": null,
      "outputs": [
        {
          "output_type": "stream",
          "name": "stdout",
          "text": [
            "     Sub-Category    Sales    Profit\n",
            "0       Bookcases  173.940   38.2668\n",
            "1          Phones  231.980   67.2742\n",
            "2         Storage  114.460   28.6150\n",
            "3     Accessories   30.080   -5.2640\n",
            "4     Accessories  165.600   -6.2100\n",
            "...           ...      ...       ...\n",
            "9989      Binders  364.800  167.8080\n",
            "9990      Storage  152.688  -26.7204\n",
            "9991    Fasteners    3.488    0.5668\n",
            "9992     Supplies    5.888   -1.3248\n",
            "9993      Binders  116.400   52.3800\n",
            "\n",
            "[9994 rows x 3 columns]\n"
          ]
        }
      ]
    },
    {
      "cell_type": "code",
      "source": [
        "TotalSubCatProfits=SubCatProfits.groupby(by=\"Sub-Category\").sum()\n",
        "print(TotalSubCatProfits)"
      ],
      "metadata": {
        "id": "3Lav4Yp9mFXp",
        "outputId": "c004f372-597c-406a-acea-d12c15aa9fca",
        "colab": {
          "base_uri": "https://localhost:8080/"
        }
      },
      "execution_count": null,
      "outputs": [
        {
          "output_type": "stream",
          "name": "stdout",
          "text": [
            "                    Sales      Profit\n",
            "Sub-Category                         \n",
            "Accessories   167380.3180  41936.6357\n",
            "Appliances    107532.1610  18138.0054\n",
            "Art            27118.7920   6527.7870\n",
            "Binders       203412.7330  30221.7633\n",
            "Bookcases     114879.9963  -3472.5560\n",
            "Chairs        328449.1030  26590.1663\n",
            "Copiers       149528.0300  55617.8249\n",
            "Envelopes      16476.4020   6964.1767\n",
            "Fasteners       3024.2800    949.5182\n",
            "Furnishings    91705.1640  13059.1436\n",
            "Labels         12486.3120   5546.2540\n",
            "Machines      189238.6310   3384.7569\n",
            "Paper          78479.2060  34053.5693\n",
            "Phones        330007.0540  44515.7306\n",
            "Storage       223843.6080  21278.8264\n",
            "Supplies       46673.5380  -1189.0995\n",
            "Tables        206965.5320 -17725.4811\n"
          ]
        }
      ]
    },
    {
      "cell_type": "code",
      "source": [
        "import matplotlib.pyplot as plt\n",
        "import seaborn as sns "
      ],
      "metadata": {
        "id": "k_hKUjnIq_HI"
      },
      "execution_count": null,
      "outputs": []
    },
    {
      "cell_type": "code",
      "source": [
        "TotalSubCatProfits['Profit'].hist(bins=40)\n",
        "ax = plt.gca()\n",
        "ax.set_title('Profit')\n",
        "plt.tight_layout()\n",
        "plt.show()"
      ],
      "metadata": {
        "id": "w-YYv3LaqTIP",
        "outputId": "49818527-0b39-4629-d305-94882dd58cd8",
        "colab": {
          "base_uri": "https://localhost:8080/",
          "height": 297
        }
      },
      "execution_count": null,
      "outputs": [
        {
          "output_type": "display_data",
          "data": {
            "text/plain": [
              "<Figure size 432x288 with 1 Axes>"
            ],
            "image/png": "[encoded data removed]"
          },
          "metadata": {
            "needs_background": "light"
          }
        }
      ]
    },
    {
      "cell_type": "code",
      "source": [
        "hist, bins = np.histogram(TotalSubCatProfits['Profit'])\n",
        "hist = hist / hist.sum()\n",
        "plt.bar(bins[:-1], hist, width=(bins[1]-bins[0]) * 0.9)\n",
        "plt.show()"
      ],
      "metadata": {
        "id": "EPFnbAdsu0TX",
        "outputId": "48b589f9-bbfc-4e3d-da9a-a5f524cf87b3",
        "colab": {
          "base_uri": "https://localhost:8080/",
          "height": 265
        }
      },
      "execution_count": null,
      "outputs": [
        {
          "output_type": "display_data",
          "data": {
            "text/plain": [
              "<Figure size 432x288 with 1 Axes>"
            ],
            "image/png": "[encoded data removed]"
          },
          "metadata": {
            "needs_background": "light"
          }
        }
      ]
    },
    {
      "cell_type": "code",
      "source": [
        "from diffprivlib import tools as dp\n",
        "dp_hist, dp_bins = dp.histogram(TotalSubCatProfits['Profit'])\n",
        "dp_hist = dp_hist / dp_hist.sum()\n",
        "\n",
        "plt.bar(dp_bins[:-1], dp_hist, width=(dp_bins[1] - dp_bins[0]) * 0.9)\n",
        "plt.show()"
      ],
      "metadata": {
        "id": "shERjug0vfKl",
        "outputId": "96176391-b917-478b-98b3-1bf0f8c54e08",
        "colab": {
          "base_uri": "https://localhost:8080/",
          "height": 337
        }
      },
      "execution_count": null,
      "outputs": [
        {
          "output_type": "stream",
          "name": "stderr",
          "text": [
            "/usr/local/lib/python3.7/site-packages/diffprivlib/tools/histograms.py:132: PrivacyLeakWarning: Range parameter has not been specified. Falling back to taking range from the data.\n",
            "To ensure differential privacy, and no additional privacy leakage, the range must be specified independently of the data (i.e., using domain knowledge).\n",
            "  \"specified independently of the data (i.e., using domain knowledge).\", PrivacyLeakWarning)\n"
          ]
        },
        {
          "output_type": "display_data",
          "data": {
            "text/plain": [
              "<Figure size 432x288 with 1 Axes>"
            ],
            "image/png": "[encoded data removed]"
          },
          "metadata": {
            "needs_background": "light"
          }
        }
      ]
    },
    {
      "cell_type": "code",
      "source": [
        "dp_bins[0], dp_bins[-1]          #Privacy Leak # We know for sure the lowest profit is -17725.481100000005 and highest is 55617.82489999999"
      ],
      "metadata": {
        "id": "g-Kn2ca2xUbe",
        "outputId": "b83ee9b2-8cb5-43ba-d0a0-2be22f230ba0",
        "colab": {
          "base_uri": "https://localhost:8080/"
        }
      },
      "execution_count": null,
      "outputs": [
        {
          "output_type": "execute_result",
          "data": {
            "text/plain": [
              "(-17725.481100000005, 55617.82489999999)"
            ]
          },
          "metadata": {},
          "execution_count": 28
        }
      ]
    },
    {
      "cell_type": "code",
      "source": [
        "np.all(dp_bins == bins)   #We can see very little difference in the values of the histgram we have not set privacy guarantee"
      ],
      "metadata": {
        "id": "aN7n4wfAxumC",
        "outputId": "cfed5e52-e8a4-4095-e061-3bf7ab3a5321",
        "colab": {
          "base_uri": "https://localhost:8080/"
        }
      },
      "execution_count": null,
      "outputs": [
        {
          "output_type": "execute_result",
          "data": {
            "text/plain": [
              "True"
            ]
          },
          "metadata": {},
          "execution_count": 29
        }
      ]
    },
    {
      "cell_type": "code",
      "source": [
        "dp_hist2, dp_bins2 = dp.histogram(TotalSubCatProfits['Profit'], epsilon=0.1,)  #An epsilon of 0.1 still preserves the broad structure of the histogram\n",
        "dp_hist2 = dp_hist2 / dp_hist2.sum()\n",
        "\n",
        "plt.bar(dp_bins2[:-1], dp_hist2, width=(dp_bins2[1] - dp_bins2[0]) * 0.9)\n",
        "plt.show()"
      ],
      "metadata": {
        "id": "V37g7L7T0lEj",
        "outputId": "042d1ce9-5092-4212-a8de-798f555e670b",
        "colab": {
          "base_uri": "https://localhost:8080/",
          "height": 341
        }
      },
      "execution_count": null,
      "outputs": [
        {
          "output_type": "stream",
          "name": "stderr",
          "text": [
            "/usr/local/lib/python3.7/site-packages/diffprivlib/tools/histograms.py:132: PrivacyLeakWarning: Range parameter has not been specified. Falling back to taking range from the data.\n",
            "To ensure differential privacy, and no additional privacy leakage, the range must be specified independently of the data (i.e., using domain knowledge).\n",
            "  \"specified independently of the data (i.e., using domain knowledge).\", PrivacyLeakWarning)\n"
          ]
        },
        {
          "output_type": "display_data",
          "data": {
            "text/plain": [
              "<Figure size 432x288 with 1 Axes>"
            ],
            "image/png": "[encoded data removed]"
          },
          "metadata": {
            "needs_background": "light"
          }
        }
      ]
    },
    {
      "cell_type": "code",
      "source": [
        "dp_hist2, dp_bins2 = dp.histogram(TotalSubCatProfits['Profit'], epsilon=0.01,)  #Effect of epsilon: If we decrease epsilon (i.e. increase the privacy guarantee), the error will increase.\n",
        "dp_hist2 = dp_hist2 / dp_hist2.sum()\n",
        "\n",
        "plt.bar(dp_bins2[:-1], dp_hist2, width=(dp_bins2[1] - dp_bins2[0]) * 0.9)\n",
        "plt.show()"
      ],
      "metadata": {
        "id": "WhCurOma2dNv",
        "outputId": "21a40811-5fb6-4222-8677-68ae0a1e4f09",
        "colab": {
          "base_uri": "https://localhost:8080/",
          "height": 337
        }
      },
      "execution_count": null,
      "outputs": [
        {
          "output_type": "stream",
          "name": "stderr",
          "text": [
            "/usr/local/lib/python3.7/site-packages/diffprivlib/tools/histograms.py:132: PrivacyLeakWarning: Range parameter has not been specified. Falling back to taking range from the data.\n",
            "To ensure differential privacy, and no additional privacy leakage, the range must be specified independently of the data (i.e., using domain knowledge).\n",
            "  \"specified independently of the data (i.e., using domain knowledge).\", PrivacyLeakWarning)\n"
          ]
        },
        {
          "output_type": "display_data",
          "data": {
            "text/plain": [
              "<Figure size 432x288 with 1 Axes>"
            ],
            "image/png": "[encoded data removed]"
          },
          "metadata": {
            "needs_background": "light"
          }
        }
      ]
    },
    {
      "cell_type": "code",
      "source": [
        "print(\"Total histogram error: %f\" % np.abs(hist - dp_hist).sum())"
      ],
      "metadata": {
        "id": "DqBQrFkzympX",
        "outputId": "dc1ae8ca-af6c-4414-eb9e-b5ebad43d7bc",
        "colab": {
          "base_uri": "https://localhost:8080/"
        }
      },
      "execution_count": null,
      "outputs": [
        {
          "output_type": "stream",
          "name": "stdout",
          "text": [
            "Total histogram error: 0.117647\n"
          ]
        }
      ]
    },
    {
      "cell_type": "code",
      "source": [
        "dp_hist, dp_bins = dp.histogram(TotalSubCatProfits['Profit'], epsilon=0.001)    #Effect of epsilon: If we decrease epsilon (i.e. increase the privacy guarantee), the error will increase.\n",
        "dp_hist = dp_hist / dp_hist.sum()\n",
        "\n",
        "print(\"Total histogram error: %f\" % np.abs(hist - dp_hist).sum())"
      ],
      "metadata": {
        "id": "KlM-8x4s3NQj",
        "outputId": "41a0fab1-f3cd-45fa-b61f-a66461469aa6",
        "colab": {
          "base_uri": "https://localhost:8080/"
        }
      },
      "execution_count": null,
      "outputs": [
        {
          "output_type": "stream",
          "name": "stdout",
          "text": [
            "Total histogram error: 1.024873\n"
          ]
        },
        {
          "output_type": "stream",
          "name": "stderr",
          "text": [
            "/usr/local/lib/python3.7/site-packages/diffprivlib/tools/histograms.py:132: PrivacyLeakWarning: Range parameter has not been specified. Falling back to taking range from the data.\n",
            "To ensure differential privacy, and no additional privacy leakage, the range must be specified independently of the data (i.e., using domain knowledge).\n",
            "  \"specified independently of the data (i.e., using domain knowledge).\", PrivacyLeakWarning)\n"
          ]
        }
      ]
    },
    {
      "cell_type": "code",
      "source": [
        "### Machine Learning Demo \n",
        "\n",
        "from sklearn import datasets\n",
        "from sklearn.model_selection import train_test_split\n",
        "\n",
        "dataset = datasets.load_iris()\n",
        "X_train, X_test, y_train, y_test = train_test_split(dataset.data, dataset.target, test_size=0.2)\n",
        "\n",
        "\n",
        "\n",
        "\n"
      ],
      "metadata": {
        "id": "3dvqQn5P_hz7"
      },
      "execution_count": null,
      "outputs": []
    },
    {
      "cell_type": "code",
      "source": [
        "\n",
        "#Now we run differential private Naive Bayes\n",
        "\n",
        "from diffprivlib.models import GaussianNB\n",
        "\n",
        "clf = GaussianNB()\n",
        "clf.fit(X_train, y_train)"
      ],
      "metadata": {
        "colab": {
          "base_uri": "https://localhost:8080/"
        },
        "id": "g3V5uNMHCdCk",
        "outputId": "d4e06737-0d99-4817-a4d7-0a489bfd8070"
      },
      "execution_count": null,
      "outputs": [
        {
          "output_type": "stream",
          "name": "stderr",
          "text": [
            "/usr/local/lib/python3.7/site-packages/diffprivlib/models/naive_bayes.py:101: PrivacyLeakWarning: Bounds have not been specified and will be calculated on the data provided. This will result in additional privacy leakage. To ensure differential privacy and no additional privacy leakage, specify bounds for each dimension.\n",
            "  \"privacy leakage, specify bounds for each dimension.\", PrivacyLeakWarning)\n"
          ]
        },
        {
          "output_type": "execute_result",
          "data": {
            "text/plain": [
              "GaussianNB(accountant=BudgetAccountant(spent_budget=[(1.0, 0)]),\n",
              "           bounds=(array([4.3, 2. , 1. , 0.1]), array([7.9, 4.4, 6.9, 2.5])))"
            ]
          },
          "metadata": {},
          "execution_count": 6
        }
      ]
    },
    {
      "cell_type": "code",
      "source": [
        "#The privacy level is controlled by the parameter epsilon, which is passed to the classifier at initialisation (e.g. GaussianNB(epsilon=0.1)). The default is epsilon = 1.0.\n",
        "\n",
        "clf = GaussianNB(epsilon=0.1)\n",
        "clf.fit(X_train, y_train)"
      ],
      "metadata": {
        "colab": {
          "base_uri": "https://localhost:8080/"
        },
        "id": "1rynhiSyCkIs",
        "outputId": "5a949644-40c3-4e7c-b264-d1fa8f177bca"
      },
      "execution_count": null,
      "outputs": [
        {
          "output_type": "stream",
          "name": "stderr",
          "text": [
            "/usr/local/lib/python3.7/site-packages/diffprivlib/models/naive_bayes.py:101: PrivacyLeakWarning: Bounds have not been specified and will be calculated on the data provided. This will result in additional privacy leakage. To ensure differential privacy and no additional privacy leakage, specify bounds for each dimension.\n",
            "  \"privacy leakage, specify bounds for each dimension.\", PrivacyLeakWarning)\n"
          ]
        },
        {
          "output_type": "execute_result",
          "data": {
            "text/plain": [
              "GaussianNB(accountant=BudgetAccountant(spent_budget=[(1.0, 0), (0.1, 0)]),\n",
              "           bounds=(array([4.3, 2. , 1. , 0.1]), array([7.9, 4.4, 6.9, 2.5])),\n",
              "           epsilon=0.1)"
            ]
          },
          "metadata": {},
          "execution_count": 8
        }
      ]
    },
    {
      "cell_type": "code",
      "source": [
        "clf.predict(X_test)"
      ],
      "metadata": {
        "colab": {
          "base_uri": "https://localhost:8080/"
        },
        "id": "k4O80hNZDftQ",
        "outputId": "ec83df72-ebfa-4c66-fccd-c917cd1b6492"
      },
      "execution_count": null,
      "outputs": [
        {
          "output_type": "execute_result",
          "data": {
            "text/plain": [
              "array([2, 2, 0, 1, 0, 0, 0, 1, 0, 2, 0, 1, 0, 2, 2, 0, 0, 0, 0, 0, 0, 2,\n",
              "       0, 0, 1, 0, 2, 2, 1, 1])"
            ]
          },
          "metadata": {},
          "execution_count": 10
        }
      ]
    },
    {
      "cell_type": "code",
      "source": [
        "print(\"Test accuracy: %f\" % clf.score(X_test, y_test))"
      ],
      "metadata": {
        "colab": {
          "base_uri": "https://localhost:8080/"
        },
        "id": "iqBVDaxAD4mp",
        "outputId": "1a288193-4082-42bd-b8ac-197b0c1218e5"
      },
      "execution_count": null,
      "outputs": [
        {
          "output_type": "stream",
          "name": "stdout",
          "text": [
            "Test accuracy: 0.366667\n"
          ]
        }
      ]
    },
    {
      "cell_type": "code",
      "source": [
        "#We can easily evaluate the accuracy of the model for various epsilon values and plot it with matplotlib\n",
        "\n",
        "import numpy as np\n",
        "import matplotlib.pyplot as plt\n",
        "\n",
        "epsilons = np.logspace(-2, 2, 50)\n",
        "bounds = ([4.3, 2.0, 1.1, 0.1], [7.9, 4.4, 6.9, 2.5])\n",
        "accuracy = list()\n",
        "\n",
        "for epsilon in epsilons:\n",
        "    clf = GaussianNB(bounds=bounds, epsilon=epsilon)\n",
        "    clf.fit(X_train, y_train)\n",
        "    \n",
        "    accuracy.append(clf.score(X_test, y_test))\n",
        "\n",
        "plt.semilogx(epsilons, accuracy)\n",
        "plt.title(\"Differentially private Naive Bayes accuracy\")\n",
        "plt.xlabel(\"epsilon\")\n",
        "plt.ylabel(\"Accuracy\")\n",
        "plt.show()"
      ],
      "metadata": {
        "colab": {
          "base_uri": "https://localhost:8080/",
          "height": 299
        },
        "id": "UiqEbFCYD4dD",
        "outputId": "df2e6728-6e04-4956-af0e-270f451f0ac5"
      },
      "execution_count": null,
      "outputs": [
        {
          "output_type": "display_data",
          "data": {
            "text/plain": [
              "<Figure size 432x288 with 1 Axes>"
            ],
            "image/png": "[encoded data removed]"
          },
          "metadata": {
            "needs_background": "light"
          }
        }
      ]
    },
    {
      "cell_type": "code",
      "source": [
        "#GOOGLE TOOL PyDP \n",
        "\n",
        "\n",
        "!pip install python-dp # installing PyDP\n",
        "\n"
      ],
      "metadata": {
        "colab": {
          "base_uri": "https://localhost:8080/"
        },
        "id": "YzFuRGjMIKcJ",
        "outputId": "9895ae50-e469-4d2d-c262-0faee5b6e4ec"
      },
      "execution_count": null,
      "outputs": [
        {
          "output_type": "stream",
          "name": "stdout",
          "text": [
            "Looking in indexes: https://pypi.org/simple, https://us-python.pkg.dev/colab-wheels/public/simple/\n",
            "Collecting python-dp\n",
            "  Downloading python_dp-1.1.1-cp37-cp37m-manylinux1_x86_64.whl (3.5 MB)\n",
            "\u001b[2K     \u001b[90m━━━━━━━━━━━━━━━━━━━━━━━━━━━━━━━━━━━━━━━━\u001b[0m \u001b[32m3.5/3.5 MB\u001b[0m \u001b[31m35.3 MB/s\u001b[0m eta \u001b[36m0:00:00\u001b[0m\n",
            "\u001b[?25hInstalling collected packages: python-dp\n",
            "Successfully installed python-dp-1.1.1\n",
            "\u001b[33mWARNING: Running pip as the 'root' user can result in broken permissions and conflicting behaviour with the system package manager. It is recommended to use a virtual environment instead: https://pip.pypa.io/warnings/venv\u001b[0m\u001b[33m\n",
            "\u001b[0m"
          ]
        }
      ]
    },
    {
      "cell_type": "code",
      "source": [
        "#Differentially Private Sum\n",
        "\n",
        "\n",
        "import pydp as dp # by convention our package is to be imported as dp (dp for Differential Privacy!)\n",
        "from pydp.algorithms.laplacian import BoundedSum, BoundedMean, Count, Max\n",
        "\n"
      ],
      "metadata": {
        "id": "e5FMTMFNINZt"
      },
      "execution_count": null,
      "outputs": []
    },
    {
      "cell_type": "code",
      "source": [
        "dp_sum_TotalSubCatProfits = BoundedSum(epsilon= 1.5, lower_bound =  5, upper_bound = 25000, dtype ='float') # Depending on the bounded limit one chooses we get different sum values \n",
        "dp_sum_og = dp_sum_TotalSubCatProfits.quick_result(TotalSubCatProfits['Sales'].to_list())\n",
        "dp_sum_og = round(dp_sum_og, 2)\n",
        "print(dp_sum_og)"
      ],
      "metadata": {
        "colab": {
          "base_uri": "https://localhost:8080/"
        },
        "id": "GFfpx1HfJA8D",
        "outputId": "d3a61343-976c-4443-f82f-b9a88e18e7b1"
      },
      "execution_count": null,
      "outputs": [
        {
          "output_type": "stream",
          "name": "stdout",
          "text": [
            "355012.12\n"
          ]
        }
      ]
    },
    {
      "cell_type": "code",
      "source": [
        "#Differentially Private Average\n",
        "\n",
        "dp_mean_TotalSubCatProfits=BoundedMean(epsilon= 1.5, lower_bound =  5, upper_bound = 25000, dtype ='float')\n",
        "dp_mean_og = dp_mean_TotalSubCatProfits.quick_result(TotalSubCatProfits['Sales'].to_list())\n",
        "dp_mean_og = round(dp_mean_og, 2)\n",
        "print(dp_mean_og)\n"
      ],
      "metadata": {
        "colab": {
          "base_uri": "https://localhost:8080/"
        },
        "id": "zRzvSpLDJA2u",
        "outputId": "d290d3b1-a72d-451c-b908-a51f73ad83f8"
      },
      "execution_count": null,
      "outputs": [
        {
          "output_type": "stream",
          "name": "stdout",
          "text": [
            "21150.6\n"
          ]
        }
      ]
    }
  ]
}